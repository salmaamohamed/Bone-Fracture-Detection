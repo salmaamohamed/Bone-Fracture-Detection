{
  "nbformat": 4,
  "nbformat_minor": 0,
  "metadata": {
    "colab": {
      "provenance": []
    },
    "kernelspec": {
      "name": "python3",
      "display_name": "Python 3"
    },
    "language_info": {
      "name": "python"
    }
  },
  "cells": [
    {
      "cell_type": "code",
      "source": [
        "import cv2 as cv\n",
        "import numpy as np\n",
        "import os\n",
        "from sklearn.cluster import MiniBatchKMeans\n",
        "from sklearn.preprocessing import StandardScaler\n",
        "from sklearn.svm import SVC\n",
        "from sklearn.metrics import accuracy_score, confusion_matrix\n",
        "from tqdm import tqdm\n",
        "import matplotlib.pyplot as plt\n",
        "from google.colab import drive"
      ],
      "metadata": {
        "id": "gO8ouqCe8II9"
      },
      "execution_count": null,
      "outputs": []
    },
    {
      "cell_type": "code",
      "execution_count": null,
      "metadata": {
        "id": "8axeDH0Y76Mu"
      },
      "outputs": [],
      "source": [
        "class BoneFracturePipeline:\n",
        "    def __init__(self, base_dir, class_folders, image_size=(256, 256), K=100):\n",
        "        self.base_dir = base_dir\n",
        "        self.class_folders = class_folders\n",
        "        self.image_size = image_size\n",
        "        self.K = K\n",
        "        self.kmeans = MiniBatchKMeans(n_clusters=K, batch_size=1000)\n",
        "        self.scaler = StandardScaler()\n",
        "        self.svm = SVC(kernel='rbf')\n",
        "\n",
        "    def generate_bone_mask(self, img):\n",
        "        blurred = cv.GaussianBlur(img, (5, 5), 0)\n",
        "        thresh = cv.adaptiveThreshold(blurred, 255, cv.ADAPTIVE_THRESH_MEAN_C, cv.THRESH_BINARY, 11, 2)\n",
        "        thresh = cv.bitwise_not(thresh)\n",
        "        kernel = np.ones((3, 3), np.uint8)\n",
        "        cleaned = cv.morphologyEx(thresh, cv.MORPH_OPEN, kernel, iterations=1)\n",
        "        return cleaned\n",
        "\n",
        "    def extract_sift_descriptors(self, folder_path):\n",
        "        sift = cv.SIFT_create()\n",
        "        all_descriptors = []\n",
        "\n",
        "        for class_name in self.class_folders:\n",
        "            class_path = os.path.join(folder_path, class_name)\n",
        "            for img_file in tqdm(os.listdir(class_path), desc=f\"SIFT from {class_name}\"):\n",
        "                img_path = os.path.join(class_path, img_file)\n",
        "                img = cv.imread(img_path, cv.IMREAD_GRAYSCALE)\n",
        "                if img is None:\n",
        "                    continue\n",
        "                img = cv.resize(img, self.image_size)\n",
        "                keypoints, descriptors = sift.detectAndCompute(img, None)\n",
        "                if descriptors is not None:\n",
        "                    all_descriptors.extend(descriptors)\n",
        "        return np.array(all_descriptors)\n",
        "\n",
        "    def create_bow_histograms(self, folder_path):\n",
        "        sift = cv.SIFT_create()\n",
        "        X, y = [], []\n",
        "\n",
        "        for label_idx, class_name in enumerate(self.class_folders):\n",
        "            class_path = os.path.join(folder_path, class_name)\n",
        "            for img_file in tqdm(os.listdir(class_path), desc=f\"BoW for {class_name}\"):\n",
        "                img_path = os.path.join(class_path, img_file)\n",
        "                img = cv.imread(img_path, cv.IMREAD_GRAYSCALE)\n",
        "                if img is None:\n",
        "                    continue\n",
        "                img = cv.resize(img, self.image_size)\n",
        "                keypoints, descriptors = sift.detectAndCompute(img, None)\n",
        "                if descriptors is not None:\n",
        "                    predictions = self.kmeans.predict(descriptors)\n",
        "                    hist, _ = np.histogram(predictions, bins=np.arange(self.K + 1))\n",
        "                    X.append(hist)\n",
        "                    y.append(label_idx)\n",
        "        return np.array(X), np.array(y)\n",
        "\n",
        "    def train(self, train_dir):\n",
        "        descriptors = self.extract_sift_descriptors(train_dir)\n",
        "        self.kmeans.fit(descriptors)\n",
        "        print(\"KMeans clustering complete.\")\n",
        "\n",
        "    def run_classification(self, train_dir, val_dir, test_dir):\n",
        "        X_train, y_train = self.create_bow_histograms(train_dir)\n",
        "        X_val, y_val = self.create_bow_histograms(val_dir)\n",
        "        X_test, y_test = self.create_bow_histograms(test_dir)\n",
        "\n",
        "        X_train = self.scaler.fit_transform(X_train)\n",
        "        X_val = self.scaler.transform(X_val)\n",
        "        X_test = self.scaler.transform(X_test)\n",
        "\n",
        "        self.svm.fit(X_train, y_train)\n",
        "        print(\"SVM training complete.\")\n",
        "\n",
        "        y_val_pred = self.svm.predict(X_val)\n",
        "        y_test_pred = self.svm.predict(X_test)\n",
        "\n",
        "        print(\"Validation Accuracy:\", accuracy_score(y_val, y_val_pred))\n",
        "        print(\"Test Accuracy:\", accuracy_score(y_test, y_test_pred))\n",
        "        print(\"Validation Confusion Matrix:\\n\", confusion_matrix(y_val, y_val_pred))\n",
        "        print(\"Test Confusion Matrix:\\n\", confusion_matrix(y_test, y_test_pred))\n",
        "\n",
        "    def visualize_keypoints(self, img_path, output_path):\n",
        "        img = cv.imread(img_path, cv.IMREAD_GRAYSCALE)\n",
        "        if img is None:\n",
        "            return\n",
        "        img = cv.resize(img, self.image_size)\n",
        "        mask = self.generate_bone_mask(img)\n",
        "        sift = cv.SIFT_create()\n",
        "\n",
        "        kp_full, _ = sift.detectAndCompute(img, None)\n",
        "        img_kp_full = cv.drawKeypoints(img, kp_full, None, flags=cv.DRAW_MATCHES_FLAGS_DRAW_RICH_KEYPOINTS)\n",
        "\n",
        "        kp_masked, _ = sift.detectAndCompute(img, mask)\n",
        "        img_kp_masked = cv.drawKeypoints(img, kp_masked, None, flags=cv.DRAW_MATCHES_FLAGS_DRAW_RICH_KEYPOINTS)\n",
        "\n",
        "        plt.figure(figsize=(16, 5))\n",
        "        plt.subplot(1, 4, 1); plt.imshow(img, cmap='gray'); plt.title('Original'); plt.axis('off')\n",
        "        plt.subplot(1, 4, 2); plt.imshow(mask, cmap='gray'); plt.title('Bone Mask'); plt.axis('off')\n",
        "        plt.subplot(1, 4, 3); plt.imshow(img_kp_full); plt.title('Keypoints (No Mask)'); plt.axis('off')\n",
        "        plt.subplot(1, 4, 4); plt.imshow(img_kp_masked); plt.title('Keypoints (With Mask)'); plt.axis('off')\n",
        "        plt.tight_layout()\n",
        "        plt.savefig(output_path)\n",
        "        plt.close()\n"
      ]
    },
    {
      "cell_type": "code",
      "source": [
        "drive.mount('/content/drive', force_remount=True)\n",
        "\n",
        "base_dir = '/content/drive/MyDrive/Bone_XRay_Data'\n",
        "train_dir = f'{base_dir}/train'\n",
        "val_dir = f'{base_dir}/val'\n",
        "test_dir = f'{base_dir}/test'\n",
        "class_folders = ['fractured', 'not fractured']"
      ],
      "metadata": {
        "colab": {
          "base_uri": "https://localhost:8080/"
        },
        "id": "O1DS1GjOLoW-",
        "outputId": "7367da9f-ddf8-42c7-8c2d-0b1648536a54"
      },
      "execution_count": null,
      "outputs": [
        {
          "output_type": "stream",
          "name": "stdout",
          "text": [
            "Mounted at /content/drive\n"
          ]
        }
      ]
    },
    {
      "cell_type": "code",
      "source": [
        "\n",
        "pipeline = BoneFracturePipeline(\n",
        "    base_dir=base_dir,\n",
        "    class_folders=class_folders,\n",
        "    image_size=(256, 256),\n",
        "    K=100\n",
        ")\n",
        "\n",
        "pipeline.train(train_dir)\n",
        "\n",
        "pipeline.run_classification(train_dir, val_dir, test_dir)\n",
        "\n",
        "output_vis_path = f'{base_dir}/visual_results'\n",
        "os.makedirs(output_vis_path, exist_ok=True)\n",
        "\n",
        "for class_name in class_folders:\n",
        "    class_path = os.path.join(train_dir, class_name)\n",
        "    for idx, img_file in enumerate(os.listdir(class_path)[:3]):\n",
        "        img_path = os.path.join(class_path, img_file)\n",
        "        out_path = os.path.join(output_vis_path, f'{class_name}_{idx+1}.png')\n",
        "        pipeline.visualize_keypoints(img_path, out_path)\n"
      ],
      "metadata": {
        "id": "LRObnQiD8Tib",
        "colab": {
          "base_uri": "https://localhost:8080/"
        },
        "outputId": "679193b1-461a-411a-dea2-acaa2139d328"
      },
      "execution_count": null,
      "outputs": [
        {
          "output_type": "stream",
          "name": "stdout",
          "text": [
            "Mounted at /content/drive\n"
          ]
        },
        {
          "output_type": "stream",
          "name": "stderr",
          "text": [
            "SIFT from fractured: 100%|██████████| 4606/4606 [04:47<00:00, 16.04it/s]\n",
            "SIFT from not fractured: 100%|██████████| 4649/4649 [04:42<00:00, 16.43it/s]\n"
          ]
        },
        {
          "output_type": "stream",
          "name": "stdout",
          "text": [
            "KMeans clustering complete.\n"
          ]
        },
        {
          "output_type": "stream",
          "name": "stderr",
          "text": [
            "BoW for fractured: 100%|██████████| 4606/4606 [03:02<00:00, 25.26it/s]\n",
            "BoW for not fractured: 100%|██████████| 4649/4649 [02:54<00:00, 26.63it/s]\n",
            "BoW for fractured: 100%|██████████| 337/337 [00:18<00:00, 18.38it/s]\n",
            "BoW for not fractured: 100%|██████████| 492/492 [00:24<00:00, 20.17it/s]\n",
            "BoW for fractured: 100%|██████████| 238/238 [00:13<00:00, 17.32it/s]\n",
            "BoW for not fractured: 100%|██████████| 268/268 [00:15<00:00, 17.29it/s]\n"
          ]
        },
        {
          "output_type": "stream",
          "name": "stdout",
          "text": [
            "SVM training complete.\n",
            "Validation Accuracy: 0.9300361881785284\n",
            "Test Accuracy: 0.9525691699604744\n",
            "Validation Confusion Matrix:\n",
            " [[286  51]\n",
            " [  7 485]]\n",
            "Test Confusion Matrix:\n",
            " [[221  17]\n",
            " [  7 261]]\n"
          ]
        }
      ]
    },
    {
      "cell_type": "code",
      "source": [
        "pipeline = BoneFracturePipeline(base_dir, ['fractured', 'not fractured'])\n",
        "pipeline.train(train_dir)\n",
        "pipeline.run_classification(train_dir, val_dir, test_dir)\n",
        "pipeline.visualize_keypoints('/content/drive/MyDrive/Bone_XRay_Data/test/fractured/1-rotated1-rotated2-rotated1.jpg', '/content/drive/MyDrive/Bone_XRay_Data/test.jpg')\n"
      ],
      "metadata": {
        "id": "8Ra4hFHD8Pfq",
        "colab": {
          "base_uri": "https://localhost:8080/"
        },
        "outputId": "055b7339-e2e3-4b6c-9bf0-3a6b0e9e385e"
      },
      "execution_count": null,
      "outputs": [
        {
          "output_type": "stream",
          "name": "stderr",
          "text": [
            "SIFT from fractured: 100%|██████████| 4606/4606 [03:13<00:00, 23.83it/s]\n",
            "SIFT from not fractured: 100%|██████████| 4649/4649 [03:00<00:00, 25.76it/s]\n"
          ]
        },
        {
          "output_type": "stream",
          "name": "stdout",
          "text": [
            "KMeans clustering complete.\n"
          ]
        },
        {
          "output_type": "stream",
          "name": "stderr",
          "text": [
            "BoW for fractured: 100%|██████████| 4606/4606 [03:24<00:00, 22.58it/s]\n",
            "BoW for not fractured: 100%|██████████| 4649/4649 [03:31<00:00, 21.97it/s]\n",
            "BoW for fractured: 100%|██████████| 337/337 [00:16<00:00, 20.98it/s]\n",
            "BoW for not fractured: 100%|██████████| 492/492 [00:20<00:00, 24.58it/s]\n",
            "BoW for fractured: 100%|██████████| 238/238 [00:07<00:00, 30.32it/s]\n",
            "BoW for not fractured: 100%|██████████| 268/268 [00:11<00:00, 24.21it/s]\n"
          ]
        },
        {
          "output_type": "stream",
          "name": "stdout",
          "text": [
            "SVM training complete.\n",
            "Validation Accuracy: 0.9312424607961399\n",
            "Test Accuracy: 0.9525691699604744\n",
            "Validation Confusion Matrix:\n",
            " [[289  48]\n",
            " [  9 483]]\n",
            "Test Confusion Matrix:\n",
            " [[223  15]\n",
            " [  9 259]]\n"
          ]
        }
      ]
    }
  ]
}